{
  "nbformat": 4,
  "nbformat_minor": 0,
  "metadata": {
    "colab": {
      "provenance": [],
      "collapsed_sections": [],
      "authorship_tag": "ABX9TyOIJoue4Z08pxDaiQD0sIZZ",
      "include_colab_link": true
    },
    "kernelspec": {
      "name": "python3",
      "display_name": "Python 3"
    },
    "language_info": {
      "name": "python"
    }
  },
  "cells": [
    {
      "cell_type": "markdown",
      "metadata": {
        "id": "view-in-github",
        "colab_type": "text"
      },
      "source": [
        "<a href=\"https://colab.research.google.com/github/angeruzzi/forfun/blob/main/Game_RockPaperScisorLizardSpock/play.ipynb\" target=\"_parent\"><img src=\"https://colab.research.google.com/assets/colab-badge.svg\" alt=\"Open In Colab\"/></a>"
      ]
    },
    {
      "cell_type": "code",
      "execution_count": null,
      "metadata": {
        "id": "orvgjesJHWZx"
      },
      "outputs": [],
      "source": [
        "import random\n",
        "\n",
        "while True:\n",
        "  \n",
        "  print('-----------------------------------------------')\n",
        "  print('Vamos jogar Pedra-Papel-Tesoura-Lagarto-Spock ?')\n",
        "  print('Digite o número da sua escolha:')\n",
        "  print('1 - Pedra')\n",
        "  print('2 - Papel')\n",
        "  print('3 - Tesoura')\n",
        "  print('4 - Lagarto')\n",
        "  print('5 - Spock')\n",
        "  print('0 - Sair do jogo')\n",
        "\n",
        "  escolha_jogador = int(input())-1\n",
        "\n",
        "  if escolha_jogador == -1:\n",
        "    print()\n",
        "    print('Tchau, foi um bom jogo')\n",
        "    break\n",
        "  \n",
        "  if escolha_jogador < -1 or escolha_jogador > 4:\n",
        "    print()\n",
        "    print('Opção inválida.')\n",
        "    print()\n",
        "    continue\n",
        "\n",
        "  escolha_comp = random.randint(0, 4)\n",
        "  mensagem = 'Você perdeu!'\n",
        "\n",
        "  if escolha_jogador == escolha_comp:\n",
        "\n",
        "    mensagem = 'Empate!'\n",
        "\n",
        "  else:\n",
        "\n",
        "    matriz_vitoria = [ \n",
        "      [    0, False,  True,  True, False], #Pedra\n",
        "      [ True,     0, False,  True, False], #Papel\n",
        "      [False,  True,     0, False,  True], #Tesoura\n",
        "      [False,  True, False,     0,  True], #Lagarto\n",
        "      [ True, False,  True, False,     0], #Spock\n",
        "   ]\n",
        "  \n",
        "    if matriz_vitoria[escolha_jogador][escolha_comp]:\n",
        "      mensagem = 'Você Venceu'\n",
        "\n",
        "  opcoes = ['Pedra','Papel','Tesoura','Lagarto','Spock']\n",
        "  opcao_jogador = opcoes[escolha_jogador]\n",
        "  opcao_comp = opcoes[escolha_comp]\n",
        "  \n",
        "  print()\n",
        "  print(f'Sua opção: {opcao_jogador}')\n",
        "  print(f'Opção do Computador: {opcao_comp}')\n",
        "  print(mensagem)\n",
        "  print()"
      ]
    }
  ]
}